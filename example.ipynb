{
 "cells": [
  {
   "cell_type": "code",
   "execution_count": 1,
   "metadata": {
    "ExecuteTime": {
     "end_time": "2019-08-19T07:38:06.550558Z",
     "start_time": "2019-08-19T07:38:06.535591Z"
    }
   },
   "outputs": [],
   "source": [
    "import base \n",
    "import utils\n",
    "import configs\n",
    "from utils import config"
   ]
  },
  {
   "cell_type": "code",
   "execution_count": 2,
   "metadata": {
    "ExecuteTime": {
     "end_time": "2019-08-19T07:38:07.653915Z",
     "start_time": "2019-08-19T07:38:07.640977Z"
    }
   },
   "outputs": [
    {
     "data": {
      "text/plain": [
       "(<utils.config.Bunch at 0x16139ea5d68>,\n",
       " {'exp_name': 'logistic_regression_mnist',\n",
       "  'training_epochs': 25,\n",
       "  'learning_rate': 0.01,\n",
       "  'batch_size': 100,\n",
       "  'display_step': 1})"
      ]
     },
     "execution_count": 2,
     "metadata": {},
     "output_type": "execute_result"
    }
   ],
   "source": [
    "config.get_config_from_json('test_example.json')"
   ]
  },
  {
   "cell_type": "code",
   "execution_count": 3,
   "metadata": {
    "ExecuteTime": {
     "end_time": "2019-08-19T07:38:10.726031Z",
     "start_time": "2019-08-19T07:38:10.721044Z"
    }
   },
   "outputs": [],
   "source": [
    "test_config = config.process_config('test_example.json')"
   ]
  },
  {
   "cell_type": "code",
   "execution_count": 4,
   "metadata": {
    "ExecuteTime": {
     "end_time": "2019-08-19T07:38:11.302514Z",
     "start_time": "2019-08-19T07:38:11.297527Z"
    }
   },
   "outputs": [
    {
     "data": {
      "text/plain": [
       "0.01"
      ]
     },
     "execution_count": 4,
     "metadata": {},
     "output_type": "execute_result"
    }
   ],
   "source": [
    "test_config.learning_rate"
   ]
  },
  {
   "cell_type": "code",
   "execution_count": 5,
   "metadata": {
    "ExecuteTime": {
     "end_time": "2019-08-19T07:38:12.779330Z",
     "start_time": "2019-08-19T07:38:12.773347Z"
    }
   },
   "outputs": [
    {
     "data": {
      "text/plain": [
       "'..\\\\experiments\\\\logistic_regression_mnist\\\\checkpoint'"
      ]
     },
     "execution_count": 5,
     "metadata": {},
     "output_type": "execute_result"
    }
   ],
   "source": [
    "test_config.checkpoint_dir"
   ]
  },
  {
   "cell_type": "code",
   "execution_count": 6,
   "metadata": {
    "ExecuteTime": {
     "end_time": "2019-08-19T07:38:41.147752Z",
     "start_time": "2019-08-19T07:38:41.142763Z"
    }
   },
   "outputs": [
    {
     "data": {
      "text/plain": [
       "'..\\\\experiments\\\\logistic_regression_mnist\\\\summary'"
      ]
     },
     "execution_count": 6,
     "metadata": {},
     "output_type": "execute_result"
    }
   ],
   "source": [
    "test_config.summary_dir"
   ]
  },
  {
   "cell_type": "code",
   "execution_count": 7,
   "metadata": {
    "ExecuteTime": {
     "end_time": "2019-08-19T08:04:25.269218Z",
     "start_time": "2019-08-19T08:04:25.264231Z"
    }
   },
   "outputs": [
    {
     "data": {
      "text/plain": [
       "25"
      ]
     },
     "execution_count": 7,
     "metadata": {},
     "output_type": "execute_result"
    }
   ],
   "source": [
    "test_config.training_epochs"
   ]
  },
  {
   "cell_type": "code",
   "execution_count": 8,
   "metadata": {
    "ExecuteTime": {
     "end_time": "2019-08-19T08:06:39.617768Z",
     "start_time": "2019-08-19T08:06:39.612779Z"
    }
   },
   "outputs": [
    {
     "data": {
      "text/plain": [
       "100"
      ]
     },
     "execution_count": 8,
     "metadata": {},
     "output_type": "execute_result"
    }
   ],
   "source": [
    "test_config.batch_size"
   ]
  },
  {
   "cell_type": "code",
   "execution_count": 9,
   "metadata": {
    "ExecuteTime": {
     "end_time": "2019-08-19T08:08:48.588550Z",
     "start_time": "2019-08-19T08:08:48.583559Z"
    }
   },
   "outputs": [
    {
     "data": {
      "text/plain": [
       "1"
      ]
     },
     "execution_count": 9,
     "metadata": {},
     "output_type": "execute_result"
    }
   ],
   "source": [
    "test_config.display_step"
   ]
  },
  {
   "cell_type": "code",
   "execution_count": null,
   "metadata": {},
   "outputs": [],
   "source": []
  },
  {
   "cell_type": "code",
   "execution_count": null,
   "metadata": {},
   "outputs": [],
   "source": []
  }
 ],
 "metadata": {
  "kernelspec": {
   "display_name": "Python 3",
   "language": "python",
   "name": "python3"
  },
  "language_info": {
   "codemirror_mode": {
    "name": "ipython",
    "version": 3
   },
   "file_extension": ".py",
   "mimetype": "text/x-python",
   "name": "python",
   "nbconvert_exporter": "python",
   "pygments_lexer": "ipython3",
   "version": "3.7.3"
  }
 },
 "nbformat": 4,
 "nbformat_minor": 2
}
